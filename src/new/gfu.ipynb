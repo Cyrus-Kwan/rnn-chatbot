{
 "cells": [
  {
   "cell_type": "code",
   "execution_count": 31,
   "id": "cd8c0a10",
   "metadata": {},
   "outputs": [],
   "source": [
    "import numpy as np\n",
    "import math as math"
   ]
  },
  {
   "cell_type": "code",
   "execution_count": 32,
   "id": "dd6ed519",
   "metadata": {},
   "outputs": [],
   "source": [
    "bina = lambda m:0 if m < 0 else 1\n",
    "dina = lambda m:1"
   ]
  },
  {
   "cell_type": "code",
   "execution_count": 33,
   "id": "b5d63a60",
   "metadata": {},
   "outputs": [],
   "source": [
    "relu = lambda m:max(0, m)\n",
    "delu = lambda m:0 if m < 0 else 1"
   ]
  },
  {
   "cell_type": "code",
   "execution_count": 68,
   "id": "369cc7a2",
   "metadata": {},
   "outputs": [],
   "source": [
    "sigm = lambda m:1/(1+np.exp(-m))\n",
    "digm = lambda m:sigm(m)*(1-sigm(m))"
   ]
  },
  {
   "cell_type": "code",
   "execution_count": 35,
   "id": "470d1d9e",
   "metadata": {},
   "outputs": [],
   "source": [
    "tanh = lambda m:np.tanh(m)\n",
    "danh = lambda m:1-m**2"
   ]
  },
  {
   "cell_type": "code",
   "execution_count": null,
   "id": "f6132eee",
   "metadata": {},
   "outputs": [],
   "source": [
    "bsigm = lambda m:(2/(1+np.exp(-m)))-1\n",
    "dsigm = lambda m:0.5*(1-m**2)"
   ]
  },
  {
   "cell_type": "markdown",
   "id": "3874e04c",
   "metadata": {},
   "source": [
    "2 layer network with 2 neurons"
   ]
  },
  {
   "cell_type": "code",
   "execution_count": null,
   "id": "6d701347",
   "metadata": {},
   "outputs": [],
   "source": [
    "l1 = np.array((\n",
    "    [0.5,0.5,0.5],    # n1\n",
    "    [-0.5,-0.5,-0.5]       # n2\n",
    "))\n",
    "\n",
    "l2 = np.array((\n",
    "    [1,1,1],      # n1\n",
    "    [1,1,1]     # n2\n",
    "))"
   ]
  },
  {
   "cell_type": "code",
   "execution_count": null,
   "id": "8aca198c",
   "metadata": {},
   "outputs": [],
   "source": [
    "x1 = np.array([2,2,1])     # includes bias\n",
    "y = np.array([0.66,0.25])     # target values"
   ]
  },
  {
   "cell_type": "markdown",
   "id": "a4a46bd4",
   "metadata": {},
   "source": [
    "NOTE: Keep training from here vvv"
   ]
  },
  {
   "cell_type": "code",
   "execution_count": 537,
   "id": "0e63a7e8",
   "metadata": {},
   "outputs": [
    {
     "data": {
      "text/plain": [
       "[2.5, 3.5]"
      ]
     },
     "execution_count": 537,
     "metadata": {},
     "output_type": "execute_result"
    }
   ],
   "source": [
    "# forward pass\n",
    "z1 = [x1 @ n.T for n in l1]\n",
    "z1"
   ]
  },
  {
   "cell_type": "code",
   "execution_count": 538,
   "id": "fabcc498",
   "metadata": {},
   "outputs": [
    {
     "data": {
      "text/plain": [
       "2.5"
      ]
     },
     "execution_count": 538,
     "metadata": {},
     "output_type": "execute_result"
    }
   ],
   "source": [
    "x1 @ l1[0]"
   ]
  },
  {
   "cell_type": "code",
   "execution_count": 539,
   "id": "bae7aecd",
   "metadata": {},
   "outputs": [
    {
     "data": {
      "text/plain": [
       "[0.9866142981514303, 0.9981778976111987]"
      ]
     },
     "execution_count": 539,
     "metadata": {},
     "output_type": "execute_result"
    }
   ],
   "source": [
    "o1 = [tanh(z) for z in z1]\n",
    "o1"
   ]
  },
  {
   "cell_type": "code",
   "execution_count": 540,
   "id": "fa9a47f0",
   "metadata": {},
   "outputs": [
    {
     "data": {
      "text/plain": [
       "array([0.9866143, 0.9981779, 1.       ])"
      ]
     },
     "execution_count": 540,
     "metadata": {},
     "output_type": "execute_result"
    }
   ],
   "source": [
    "x2 = np.array(o1 + [1]) # new input for layer 2\n",
    "x2"
   ]
  },
  {
   "cell_type": "code",
   "execution_count": 541,
   "id": "95d336d7",
   "metadata": {},
   "outputs": [
    {
     "data": {
      "text/plain": [
       "[2.9845901394874144, 2.4903030124268137]"
      ]
     },
     "execution_count": 541,
     "metadata": {},
     "output_type": "execute_result"
    }
   ],
   "source": [
    "z2 = [x2 @ n.T for n in l2]\n",
    "z2"
   ]
  },
  {
   "cell_type": "code",
   "execution_count": 542,
   "id": "a2ed1c3f",
   "metadata": {},
   "outputs": [
    {
     "data": {
      "text/plain": [
       "[0.994900364297005, 0.986353951030488]"
      ]
     },
     "execution_count": 542,
     "metadata": {},
     "output_type": "execute_result"
    }
   ],
   "source": [
    "o2 = [tanh(z) for z in z2]   # final output at the end of the network\n",
    "o2"
   ]
  },
  {
   "cell_type": "markdown",
   "id": "1aa6f678",
   "metadata": {},
   "source": [
    "Error calcuation"
   ]
  },
  {
   "cell_type": "code",
   "execution_count": 543,
   "id": "81da7bab",
   "metadata": {},
   "outputs": [],
   "source": [
    "# Initial error calculation starting from the final layer output\n",
    "diffs = [d - z for d, z in zip(y, o2)]\n",
    "deriv = [danh(z) for z in o2]\n",
    "error = np.array([dif * der for dif, der in zip(diffs, deriv)])\n",
    "\n",
    "\n",
    "error   # error[0] = error of l2[0]     error[1] = error of l2[1]\n",
    "sig2 = np.array([\n",
    "    error[0],   # first neuron error\n",
    "    error[1]    # second neuron error\n",
    "    ])"
   ]
  },
  {
   "cell_type": "markdown",
   "id": "5703f895",
   "metadata": {},
   "source": [
    "$ \\delta_j^{(l)} = f'\\!\\left(z_j^{(l)}\\right) \\sum_k w_{jk}^{(l+1)} \\, \\delta_k^{(l+1)} $"
   ]
  },
  {
   "cell_type": "code",
   "execution_count": 544,
   "id": "8e75cb1a",
   "metadata": {},
   "outputs": [],
   "source": [
    "sig1 = np.array([\n",
    "    0,\n",
    "    0\n",
    "])"
   ]
  },
  {
   "cell_type": "code",
   "execution_count": 545,
   "id": "f7689ecd",
   "metadata": {},
   "outputs": [],
   "source": [
    "# Calculate errors for each preceeding neuron\n",
    "sig1[0] = tanh(z1[0])*(sig2[0]*l2[0][0] + sig2[1]*l2[1][0])\n",
    "sig1[1] = tanh(z1[1])*(sig2[0]*l2[0][1] + sig2[1]*l2[1][1])"
   ]
  },
  {
   "cell_type": "markdown",
   "id": "5cb2364d",
   "metadata": {},
   "source": [
    "Calculate the deltas"
   ]
  },
  {
   "cell_type": "code",
   "execution_count": 546,
   "id": "20d68918",
   "metadata": {},
   "outputs": [],
   "source": [
    "c = 0.01\n",
    "\n",
    "d2 = np.array((\n",
    "    [c*sig2[0]*o2[0], c*sig2[0]*o2[1], c*sig2[0]*1],    # weight deltas for output layer neuron 1\n",
    "    [c*sig2[1]*o2[0], c*sig2[1]*o2[1], c*sig2[1]*1]     # weight deltas for output layer neruon 2\n",
    "))\n",
    "\n",
    "d1 = np.array((\n",
    "    [c*sig1[0]*o1[0], c*sig1[0]*o1[1], c*sig1[0]*1],    # weight deltas for hidden layer neuron 1\n",
    "    [c*sig1[1]*o1[0], c*sig1[1]*o1[1], c*sig1[1]*1],    # weight deltas for hidden layer neuron 2\n",
    "))"
   ]
  },
  {
   "cell_type": "markdown",
   "id": "3f0f63d3",
   "metadata": {},
   "source": [
    "Weight update"
   ]
  },
  {
   "cell_type": "code",
   "execution_count": 547,
   "id": "3ad39875",
   "metadata": {},
   "outputs": [],
   "source": [
    "l1 = l1 + d1\n",
    "l2 = l2 + d2"
   ]
  },
  {
   "cell_type": "code",
   "execution_count": 548,
   "id": "97e0706e",
   "metadata": {},
   "outputs": [],
   "source": [
    "t = np.concatenate((o1, [1]))"
   ]
  },
  {
   "cell_type": "code",
   "execution_count": 549,
   "id": "c4d82b9b",
   "metadata": {},
   "outputs": [
    {
     "data": {
      "text/plain": [
       "0.9518684558178941"
      ]
     },
     "execution_count": 549,
     "metadata": {},
     "output_type": "execute_result"
    }
   ],
   "source": [
    "sigm(t @ l2[0])"
   ]
  },
  {
   "cell_type": "code",
   "execution_count": 550,
   "id": "2ac1baac",
   "metadata": {},
   "outputs": [
    {
     "data": {
      "text/plain": [
       "0.9234173666680794"
      ]
     },
     "execution_count": 550,
     "metadata": {},
     "output_type": "execute_result"
    }
   ],
   "source": [
    "sigm(t @ l2[1])"
   ]
  },
  {
   "cell_type": "code",
   "execution_count": 191,
   "id": "fcaad324",
   "metadata": {},
   "outputs": [],
   "source": [
    "l1 = np.array((\n",
    "    [0.1,0.2,0.3],    # n1\n",
    "    [-0.1,-0.2,-0.3]       # n2\n",
    "))\n",
    "\n",
    "l2 = np.array((\n",
    "    [1,2,3],      # n1\n",
    "    [-1,-2,-3]     # n2\n",
    "))"
   ]
  },
  {
   "cell_type": "code",
   "execution_count": 192,
   "id": "cd282f87",
   "metadata": {},
   "outputs": [],
   "source": [
    "inputs = np.array([\n",
    "    [3,4],\n",
    "    [2,0],\n",
    "    [6,1],\n",
    "    [-2,-1], \n",
    "    [3,-2], \n",
    "    [2,-4],\n",
    "    [-2,5], \n",
    "    [0,2], \n",
    "    [-1,0]\n",
    "])     # includes bias\n",
    "targets = np.array([\n",
    "    [1,0],\n",
    "    [1,0],\n",
    "    [1,0],\n",
    "    [0,1],\n",
    "    [0,0],\n",
    "    [0,0],\n",
    "    [1,1],\n",
    "    [1,1],\n",
    "    [1,1]\n",
    "])     # target values"
   ]
  },
  {
   "cell_type": "code",
   "execution_count": 193,
   "id": "e0eb0066",
   "metadata": {},
   "outputs": [
    {
     "name": "stdout",
     "output_type": "stream",
     "text": [
      "\n",
      "Layer 1:\n",
      "[[ 0.10002749  0.20000678  0.30003427]\n",
      " [-0.09994502 -0.19998644 -0.29993146]]\n",
      "Layer 2:\n",
      "[[ 1.00008662  2.00002136  3.00010798]\n",
      " [-1.00008662 -2.00002136 -3.00010798]]\n",
      "Prediction of x=(2,2)\n",
      "[0.986471446914436, 0.013528553085563937]\n",
      "\n",
      "Layer 1:\n",
      "[[ 0.1000497   0.20002025  0.30006994]\n",
      " [-0.09990061 -0.1999595  -0.29986012]]\n",
      "Layer 2:\n",
      "[[ 1.00013386  2.00005002  3.00018388]\n",
      " [-1.00013386 -2.00005002 -3.00018388]]\n",
      "Prediction of x=(2,2)\n",
      "[0.9864744859033787, 0.01352551409662133]\n",
      "\n",
      "Layer 1:\n",
      "[[ 0.10007709  0.20002937  0.30010645]\n",
      " [-0.0998458  -0.19994125 -0.29978707]]\n",
      "Layer 2:\n",
      "[[ 1.00020697  2.00007436  3.0002813 ]\n",
      " [-1.00020697 -2.00007436 -3.0002813 ]]\n",
      "Prediction of x=(2,2)\n",
      "[0.9864780753484635, 0.013521924651536345]\n",
      "\n",
      "Layer 1:\n",
      "[[ 0.09883461  0.19865627  0.29749072]\n",
      " [-0.10233036 -0.20268702 -0.3050177 ]]\n",
      "Layer 2:\n",
      "[[ 0.9977163   1.99732184  2.99503781]\n",
      " [-0.9977163  -1.99732184 -2.99503781]]\n",
      "Prediction of x=(2,2)\n",
      "[0.9862651137161713, 0.013734886283828815]\n",
      "\n",
      "Layer 1:\n",
      "[[ 0.09807048  0.198032    0.29609889]\n",
      " [-0.10385854 -0.20393549 -0.30780121]]\n",
      "Layer 2:\n",
      "[[ 0.99458609  1.99476456  2.98933628]\n",
      " [-0.99775327 -1.99735205 -2.99510516]]\n",
      "Prediction of x=(2,2)\n",
      "[0.9860892875547083, 0.013791216372204899]\n",
      "\n",
      "Layer 1:\n",
      "[[ 0.09755055  0.19733015  0.29487721]\n",
      " [-0.10490129 -0.2053431  -0.31025136]]\n",
      "Layer 2:\n",
      "[[ 0.99242535  1.99184779  2.98425919]\n",
      " [-0.99777553 -1.99738209 -2.99515746]]\n",
      "Prediction of x=(2,2)\n",
      "[0.9859353252310415, 0.013841108710236213]\n",
      "\n",
      "Layer 1:\n",
      "[[ 0.09658457  0.19701403  0.29358528]\n",
      " [-0.10679573 -0.20596305 -0.31278503]]\n",
      "Layer 2:\n",
      "[[ 0.99250363  1.99187341  2.98436387]\n",
      " [-0.99256549 -1.99567712 -2.98818944]]\n",
      "Prediction of x=(2,2)\n",
      "[0.985884274534038, 0.014047155761646281]\n",
      "\n",
      "Layer 1:\n",
      "[[ 0.09563961  0.19655059  0.29216523]\n",
      " [-0.10867198 -0.20688324 -0.31560461]]\n",
      "Layer 2:\n",
      "[[ 0.99256305  1.99190255  2.98445317]\n",
      " [-0.98822979 -1.99355073 -2.98167386]]\n",
      "Prediction of x=(2,2)\n",
      "[0.9858269147576179, 0.01424842875064693]\n",
      "\n",
      "Layer 1:\n",
      "[[ 0.09486786  0.19592015  0.29075942]\n",
      " [-0.11022729 -0.20815376 -0.31843774]]\n",
      "Layer 2:\n",
      "[[ 0.9926012   1.99193372  2.98452267]\n",
      " [-0.98503744 -1.99094293 -2.97585875]]\n",
      "Prediction of x=(2,2)\n",
      "[0.9857686677903472, 0.01443296565096399]\n"
     ]
    }
   ],
   "source": [
    "for i in range(1):\n",
    "    for i, x in enumerate(inputs):\n",
    "        # 1. Forward pass\n",
    "        x1 = np.concatenate((x, [1]))\n",
    "        z1 = [x1 @ n.T for n in l1]\n",
    "        o1 = [sigm(z) for z in z1]\n",
    "\n",
    "        x2 = np.array(o1 + [1])         # new input for layer 2 (augmented input)\n",
    "\n",
    "        z2 = [x2 @ n.T for n in l2]     # dot product scalar\n",
    "        o2 = [sigm(z) for z in z2]     # final output at the end of the network\n",
    "\n",
    "        # 2. Initial error calculation starting from the final layer output\n",
    "        diffs = [d - z for d, z in zip(targets[i], o2)]\n",
    "        deriv = [digm(z) for z in z2]\n",
    "        error = np.array([dif * der for dif, der in zip(diffs, deriv)])\n",
    "\n",
    "\n",
    "        error   # error[0] = error of l2[0]     error[1] = error of l2[1]\n",
    "        sig2 = np.array([\n",
    "            error[0],   # first neuron error\n",
    "            error[1]    # second neuron error\n",
    "        ])\n",
    "        \n",
    "        # 3. Hidden error calculation\n",
    "        # Calculate errors for each preceeding neuron\n",
    "        sig1 = np.array([\n",
    "            digm(z1[0])*(sig2[0]*l2[0][0] + sig2[1]*l2[1][0]),\n",
    "            digm(z1[1])*(sig2[0]*l2[0][1] + sig2[1]*l2[1][1])\n",
    "        ])\n",
    "\n",
    "        # 4. Calculate deltas\n",
    "        c = 0.5\n",
    "\n",
    "        d2 = np.array((\n",
    "            [c*sig2[0]*x2[0], c*sig2[0]*x2[1], c*sig2[0]*1],    # weight deltas for output layer neuron 1\n",
    "            [c*sig2[1]*x2[0], c*sig2[1]*x2[1], c*sig2[1]*1]     # weight deltas for output layer neruon 2\n",
    "        ))\n",
    "\n",
    "        d1 = np.array((\n",
    "            [c*sig1[0]*o1[0], c*sig1[0]*o1[1], c*sig1[0]*1],    # weight deltas for hidden layer neuron 1\n",
    "            [c*sig1[1]*o1[0], c*sig1[1]*o1[1], c*sig1[1]*1],    # weight deltas for hidden layer neuron 2\n",
    "        ))\n",
    "\n",
    "        # 5. Update the weights\n",
    "        l1 = l1 + d1\n",
    "        l2 = l2 + d2\n",
    "        \n",
    "        print(\"\\nLayer 1:\")\n",
    "        print(l1)\n",
    "        print(\"Layer 2:\")\n",
    "        print(l2)\n",
    "\n",
    "        # View network output after training cycle\n",
    "        # Testing the network on untrained data\n",
    "        print(\"Prediction of x=(2,2)\")\n",
    "        t1 = np.array([2,2,1])\n",
    "        t2 = np.array([sigm(t1 @ l1[0]), sigm(t1 @ l1[1]), 1])\n",
    "        print([sigm(t2@l2[0]), sigm(t2@l2[1])])\n",
    "    "
   ]
  },
  {
   "cell_type": "code",
   "execution_count": null,
   "id": "5224f383",
   "metadata": {},
   "outputs": [
    {
     "name": "stdout",
     "output_type": "stream",
     "text": [
      "[0.01353230887973933, 0.9864676911202608]\n",
      "[0.013349185496122658, 0.013349185496122523]\n",
      "[0.00018065 0.01316854]\n",
      "0.2055003073422635 * (0.00018064530142646813 + -0.013168540194696057)\n",
      "0.20550030734226343 * (0.00036129060285293625 + -0.026337080389392115)\n",
      "[-0.00266902 -0.00533803]\n",
      "\n",
      "Layer 1:\n",
      "[[ 0.09905123  0.19961426  0.29866549]\n",
      " [-0.10189754 -0.20077148 -0.30266902]]\n",
      "Layer 2:\n",
      "[[ 1.00006421  2.00002611  3.00009032]\n",
      " [-0.99531892 -1.99809681 -2.99341573]]\n",
      "Prediction of x=(2,2)\n",
      "[0.9864146549791476, 0.013728112569124429]\n"
     ]
    }
   ],
   "source": [
    "l1 = np.array((\n",
    "    [0.1,0.2,0.3],    # n1\n",
    "    [-0.1,-0.2,-0.3]       # n2\n",
    "))\n",
    "\n",
    "l2 = np.array((\n",
    "    [1,2,3],      # n1\n",
    "    [-1,-2,-3]     # n2\n",
    "))\n",
    "\n",
    "y = [1,1]\n",
    "\n",
    "# 1. Forward pass\n",
    "x1 = np.array((2,2,1))\n",
    "z1 = [x1 @ n.T for n in l1]\n",
    "o1 = [sigm(z) for z in z1]\n",
    "\n",
    "x2 = np.array(o1 + [1])         # new input for layer 2 (augmented input)\n",
    "\n",
    "z2 = [x2 @ n.T for n in l2]     # dot product scalar\n",
    "o2 = [sigm(z) for z in z2]     # final output at the end of the network\n",
    "\n",
    "# 2. Initial error calculation starting from the final layer output\n",
    "diffs = [d - z for d, z in zip(y, o2)]\n",
    "deriv = [digm(z) for z in z2]\n",
    "error = np.array([dif * der for dif, der in zip(diffs, deriv)])\n",
    "\n",
    "\n",
    "error   # error[0] = error of l2[0]     error[1] = error of l2[1]\n",
    "sig2 = np.array([\n",
    "    error[0],   # first neuron error\n",
    "    error[1]    # second neuron error\n",
    "])\n",
    "\n",
    "# 3. Hidden error calculation\n",
    "# Calculate errors for each preceeding neuron\n",
    "sig1 = np.array([\n",
    "    digm(z1[0])*(sig2[0]*l2[0][0] + sig2[1]*l2[1][0]),\n",
    "    digm(z1[1])*(sig2[0]*l2[0][1] + sig2[1]*l2[1][1])\n",
    "])\n",
    "\n",
    "# 4. Calculate deltas\n",
    "c = 0.5\n",
    "\n",
    "d2 = np.array((\n",
    "    [c*sig2[0]*x2[0], c*sig2[0]*x2[1], c*sig2[0]*1],    # weight deltas for output layer neuron 1\n",
    "    [c*sig2[1]*x2[0], c*sig2[1]*x2[1], c*sig2[1]*1]     # weight deltas for output layer neruon 2\n",
    "))\n",
    "\n",
    "d1 = np.array((\n",
    "    [c*sig1[0]*o1[0], c*sig1[0]*o1[1], c*sig1[0]*1],    # weight deltas for hidden layer neuron 1\n",
    "    [c*sig1[1]*o1[0], c*sig1[1]*o1[1], c*sig1[1]*1],    # weight deltas for hidden layer neuron 2\n",
    "))\n",
    "\n",
    "# 5. Update the weights\n",
    "l1 = l1 + d1\n",
    "l2 = l2 + d2\n",
    "\n",
    "print(\"\\nLayer 1:\")\n",
    "print(l1)\n",
    "print(\"Layer 2:\")\n",
    "print(l2)\n",
    "\n",
    "# View network output after training cycle\n",
    "# Testing the network on untrained data\n",
    "print(\"Prediction of x=(2,2)\")\n",
    "t1 = np.array([2,2,1])\n",
    "t2 = np.array([sigm(t1 @ l1[0]), sigm(t1 @ l1[1]), 1])\n",
    "print([sigm(t2@l2[0]), sigm(t2@l2[1])])"
   ]
  },
  {
   "cell_type": "code",
   "execution_count": 205,
   "id": "6c37c894",
   "metadata": {},
   "outputs": [
    {
     "data": {
      "text/plain": [
       "0.0065"
      ]
     },
     "execution_count": 205,
     "metadata": {},
     "output_type": "execute_result"
    }
   ],
   "source": [
    "0.5*0.013*1"
   ]
  }
 ],
 "metadata": {
  "kernelspec": {
   "display_name": "tfenv",
   "language": "python",
   "name": "python3"
  },
  "language_info": {
   "codemirror_mode": {
    "name": "ipython",
    "version": 3
   },
   "file_extension": ".py",
   "mimetype": "text/x-python",
   "name": "python",
   "nbconvert_exporter": "python",
   "pygments_lexer": "ipython3",
   "version": "3.9.21"
  }
 },
 "nbformat": 4,
 "nbformat_minor": 5
}
