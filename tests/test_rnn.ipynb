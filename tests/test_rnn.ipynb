{
 "cells": [
  {
   "cell_type": "code",
   "execution_count": 1,
   "id": "b6748721",
   "metadata": {},
   "outputs": [],
   "source": [
    "import os\n",
    "import re\n",
    "import copy\n",
    "from pathlib import Path\n",
    "from test_setup import *\n",
    "from recurrent_network import *"
   ]
  },
  {
   "cell_type": "code",
   "execution_count": 2,
   "id": "d02c7f52",
   "metadata": {},
   "outputs": [],
   "source": [
    "dir_path    = Path(os.getcwd()).parent.resolve()"
   ]
  },
  {
   "cell_type": "code",
   "execution_count": 4,
   "id": "4ae19005",
   "metadata": {},
   "outputs": [],
   "source": [
    "with open(dir_path / \"data/little-fish.txt\") as f:\n",
    "    text = f.read().lower()"
   ]
  },
  {
   "cell_type": "code",
   "execution_count": 8,
   "id": "76b854a3",
   "metadata": {},
   "outputs": [],
   "source": [
    "# Encode Text as One-Hot Vectors\n",
    "def one_hot(key, token_map):\n",
    "    vec = [0] * vocab_size\n",
    "    vec[token_map[key]] = 1\n",
    "    return vec"
   ]
  },
  {
   "cell_type": "code",
   "execution_count": 5,
   "id": "d539ced0",
   "metadata": {},
   "outputs": [],
   "source": [
    "# Split sentences using punctuation marks that end sentences\n",
    "splits   = re.split(r\"[.!?]+\", text)\n",
    "\n",
    "# Clean each sentence\n",
    "sentences   = []\n",
    "for s in splits:\n",
    "    s   = s.strip()\n",
    "    if not s:\n",
    "        continue\n",
    "    s   = re.sub(r\"[^a-zA-Z0-9'\\s]\", '', s)  # keep only letters, numbers, apostrophes, and spaces\n",
    "    sentences.append(s.lower())"
   ]
  },
  {
   "cell_type": "markdown",
   "id": "b14fb5a6",
   "metadata": {},
   "source": [
    "## RNN Model\n",
    "\n",
    "DISCLAIMER: Below this model, there are two training blocks. Only run a single training block for each results evaluation."
   ]
  },
  {
   "cell_type": "code",
   "execution_count": 9,
   "id": "20166634",
   "metadata": {},
   "outputs": [],
   "source": [
    "rnn = RecurrentNetwork(\n",
    "    layer_sizes=[vocab_size, 32, vocab_size],\n",
    "    active=Activation.relu,\n",
    "    learn=LearningRule.gradient,\n",
    "    loss=\"cross-entropy\",\n",
    "    random_seed=42\n",
    ")"
   ]
  },
  {
   "cell_type": "code",
   "execution_count": 12,
   "id": "9a544ad9",
   "metadata": {},
   "outputs": [],
   "source": [
    "cycle_error = []"
   ]
  },
  {
   "cell_type": "code",
   "execution_count": 3,
   "id": "aca6f4a5",
   "metadata": {},
   "outputs": [],
   "source": [
    "def mse(y_true, y_pred, n):\n",
    "    result = 0\n",
    "    for i in range(len(y_true)):\n",
    "        result += (y_true[i] - y_pred[i])**2\n",
    "\n",
    "    return result/n"
   ]
  },
  {
   "cell_type": "markdown",
   "id": "7b71da25",
   "metadata": {},
   "source": [
    "### Training A: Character Level Tokens"
   ]
  },
  {
   "cell_type": "code",
   "execution_count": null,
   "id": "f717a2e7",
   "metadata": {},
   "outputs": [],
   "source": [
    "min_loss    = float('inf')\n",
    "best_model  = copy.deepcopy(rnn)\n",
    "\n",
    "# Get unique characters\n",
    "vocab = sorted(set(\" \".join(sentences)))\n",
    "vocab_size = len(vocab)\n",
    "\n",
    "# Character to token level map\n",
    "char_to_idx = {c: i for i, c in enumerate(vocab)}\n",
    "idx_to_char = {i: c for i, c in enumerate(vocab)}\n",
    "\n",
    "# Character Level: Only run if \n",
    "sequence = [one_hot(char, char_to_idx) for char in text]\n",
    "\n",
    "# TRAINING\n",
    "for epoch in range(500):\n",
    "    total_loss = 0\n",
    "    for i in range(len(sequence)-1):\n",
    "        x = sequence[i]         # input char one-hot\n",
    "        y_true = sequence[i+1]  # next char one-hot\n",
    "\n",
    "        rnn.train(x, y_true, 0.005, 0.9)\n",
    "        y_pred  = rnn.predict(x)\n",
    "        total_loss += mse(y_true, y_pred, len(y_true))\n",
    "\n",
    "    # Store the best model for later\n",
    "    if total_loss < min_loss:\n",
    "        min_loss    = total_loss\n",
    "        best_model  = copy.deepcopy(rnn)\n",
    "\n",
    "    # Add cycle error to history\n",
    "    cycle_error.append(total_loss)\n",
    "\n",
    "    if epoch % 100 == 0:\n",
    "        print(f\"Epoch {epoch}, Loss {total_loss}\")"
   ]
  },
  {
   "cell_type": "markdown",
   "id": "9159ce72",
   "metadata": {},
   "source": [
    "### Training B: Word Level Tokens"
   ]
  },
  {
   "cell_type": "code",
   "execution_count": 13,
   "id": "af13e4d2",
   "metadata": {},
   "outputs": [
    {
     "name": "stdout",
     "output_type": "stream",
     "text": [
      "Epoch 0, Loss 0.19888052464997252\n",
      "Epoch 100, Loss 0.09781877967912687\n",
      "Epoch 200, Loss 0.09278820517150559\n",
      "Epoch 300, Loss 0.09394287798635698\n",
      "Epoch 400, Loss 0.09502042458458178\n"
     ]
    }
   ],
   "source": [
    "min_loss    = float('inf')\n",
    "best_model  = copy.deepcopy(rnn)\n",
    "\n",
    "# Get unique words\n",
    "vocab = sorted(set(\" \".join(sentences).split()))\n",
    "vocab_size = len(vocab)\n",
    "\n",
    "# Word token level map\n",
    "word_to_idx = {c: i for i, c in enumerate(vocab)}\n",
    "idx_to_word = {i: c for i, c in enumerate(vocab)}\n",
    "\n",
    "# Word token input sequences for each sentence in the text\n",
    "sequence = [[one_hot(word, word_to_idx) for word in sentence.split()] for sentence in sentences]\n",
    "\n",
    "# TRAINING\n",
    "for epoch in range(500):\n",
    "    total_loss = 0\n",
    "    for sentence in sequence:\n",
    "        for w, word in enumerate(sentence[:-1]):\n",
    "            x       = sentence[w]\n",
    "            y_true  = sentence[w+1]\n",
    "\n",
    "            rnn.train(x, y_true, 0.005, 0.9)  # you’d need a train method using BPTT\n",
    "            \n",
    "        y_pred  = rnn.predict(x)\n",
    "        total_loss += mse(y_true, y_pred, len(y_true))\n",
    "\n",
    "        # Store the best model for later\n",
    "        if total_loss < min_loss:\n",
    "            min_loss    = total_loss\n",
    "            best_model  = copy.deepcopy(rnn)\n",
    "\n",
    "    # Add cycle error to history\n",
    "    cycle_error.append(total_loss)\n",
    "\n",
    "    if epoch % 100 == 0:\n",
    "        print(f\"Epoch {epoch}, Loss {total_loss}\")"
   ]
  },
  {
   "cell_type": "code",
   "execution_count": 15,
   "id": "2a159316",
   "metadata": {},
   "outputs": [
    {
     "name": "stdout",
     "output_type": "stream",
     "text": [
      "Best next words: of a little\n",
      "Predicted next words: of a little\n"
     ]
    }
   ],
   "source": [
    "# Suppose your text and vocab setup are already done\n",
    "seed_words = [\"he\", \"swam\", \"away\", \"and\", \"thought\"]\n",
    "seed_sequence = [one_hot(key, word_to_idx) for key in seed_words]\n",
    "\n",
    "# Predict next 5 words\n",
    "n_next = 3\n",
    "best_sequence       = best_model.predict_next(seed_sequence, n_next)\n",
    "predicted_sequence  = rnn.predict_next(seed_sequence, n_next)\n",
    "\n",
    "# Convert predictions back to words (take argmax)\n",
    "best_words = []\n",
    "for out in best_sequence[len(seed_sequence):]:  # only the new predictions\n",
    "    idx = out.index(max(out))\n",
    "    best_words.append(idx_to_word[idx])\n",
    "\n",
    "# Convert predictions back to words (take argmax)\n",
    "predicted_words = []\n",
    "for out in predicted_sequence[len(seed_sequence):]:  # only the new predictions\n",
    "    idx = out.index(max(out))\n",
    "    predicted_words.append(idx_to_word[idx])\n",
    "\n",
    "\n",
    "print(\"Best next words:\", \" \".join(best_words))\n",
    "print(\"Predicted next words:\", \" \".join(predicted_words))"
   ]
  },
  {
   "cell_type": "code",
   "execution_count": 16,
   "id": "6ef5d62c",
   "metadata": {},
   "outputs": [],
   "source": [
    "import matplotlib.pyplot as plt"
   ]
  },
  {
   "cell_type": "code",
   "execution_count": 17,
   "id": "7568ab9d",
   "metadata": {},
   "outputs": [
    {
     "data": {
      "image/png": "[encoded data removed]",
      "text/plain": [
       "<Figure size 640x480 with 1 Axes>"
      ]
     },
     "metadata": {},
     "output_type": "display_data"
    }
   ],
   "source": [
    "plt.plot(cycle_error)\n",
    "plt.title(\"Convergence Rate\")\n",
    "plt.xlabel(\"Cycle Number\")\n",
    "plt.ylabel(\"Cycle Error\")\n",
    "plt.show()"
   ]
  },
  {
   "cell_type": "code",
   "execution_count": 18,
   "id": "8a321aec",
   "metadata": {},
   "outputs": [],
   "source": [
    "import pickle"
   ]
  },
  {
   "cell_type": "code",
   "execution_count": 19,
   "id": "e206c3fd",
   "metadata": {},
   "outputs": [],
   "source": [
    "bm_handle = open(dir_path / \"models/lf-bm-epoch500\", \"wb\")\n",
    "pickle.dump(best_model, bm_handle)\n",
    "bm_handle.close()\n",
    "\n",
    "fm_handle = open(dir_path / \"models/lf-fm-epoch500\", \"wb\")\n",
    "pickle.dump(best_model, fm_handle)\n",
    "fm_handle.close()"
   ]
  }
 ],
 "metadata": {
  "kernelspec": {
   "display_name": "tfenv",
   "language": "python",
   "name": "python3"
  },
  "language_info": {
   "codemirror_mode": {
    "name": "ipython",
    "version": 3
   },
   "file_extension": ".py",
   "mimetype": "text/x-python",
   "name": "python",
   "nbconvert_exporter": "python",
   "pygments_lexer": "ipython3",
   "version": "3.9.21"
  }
 },
 "nbformat": 4,
 "nbformat_minor": 5
}
